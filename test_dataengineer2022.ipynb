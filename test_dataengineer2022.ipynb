{
 "cells": [
  {
   "cell_type": "code",
   "execution_count": 1,
   "metadata": {},
   "outputs": [],
   "source": [
    "# Installation de la bibliotèque\n",
    "#pip install mysql-connector-python"
   ]
  },
  {
   "cell_type": "code",
   "execution_count": 38,
   "metadata": {},
   "outputs": [],
   "source": [
    "# Importation des bibliotques nécessaires au traitement et à la récupération des données\n",
    "import mysql.connector as sql\n",
    "import pandas as pd\n",
    "import numpy\n",
    "import requests\n",
    "import re\n",
    "from sqlalchemy import create_engine"
   ]
  },
  {
   "cell_type": "code",
   "execution_count": 39,
   "metadata": {},
   "outputs": [],
   "source": [
    "# Connexion à la base de données MySQL local\n",
    "db_connection = sql.connect(host='localhost',\n",
    "                         database='dataengineer',\n",
    "                         user='root',\n",
    "                         password='root')"
   ]
  },
  {
   "cell_type": "code",
   "execution_count": 4,
   "metadata": {},
   "outputs": [],
   "source": [
    "# Récupération de la tale \"address\" afin de traiter le requétage de l'API sur une table Pandas\n",
    "df = pd.read_sql('SELECT * FROM address', con=db_connection)"
   ]
  },
  {
   "cell_type": "code",
   "execution_count": 5,
   "metadata": {
    "scrolled": true
   },
   "outputs": [
    {
     "data": {
      "text/html": [
       "<div>\n",
       "<style scoped>\n",
       "    .dataframe tbody tr th:only-of-type {\n",
       "        vertical-align: middle;\n",
       "    }\n",
       "\n",
       "    .dataframe tbody tr th {\n",
       "        vertical-align: top;\n",
       "    }\n",
       "\n",
       "    .dataframe thead th {\n",
       "        text-align: right;\n",
       "    }\n",
       "</style>\n",
       "<table border=\"1\" class=\"dataframe\">\n",
       "  <thead>\n",
       "    <tr style=\"text-align: right;\">\n",
       "      <th></th>\n",
       "      <th>address_id</th>\n",
       "      <th>address</th>\n",
       "      <th>city</th>\n",
       "      <th>postal_code</th>\n",
       "      <th>latitude</th>\n",
       "      <th>longitude</th>\n",
       "    </tr>\n",
       "  </thead>\n",
       "  <tbody>\n",
       "    <tr>\n",
       "      <th>0</th>\n",
       "      <td>1</td>\n",
       "      <td>318 CHE DE ROUMAGOUA</td>\n",
       "      <td>LA CIOTAT</td>\n",
       "      <td>13600</td>\n",
       "      <td>None</td>\n",
       "      <td>None</td>\n",
       "    </tr>\n",
       "    <tr>\n",
       "      <th>1</th>\n",
       "      <td>2</td>\n",
       "      <td>19 RUE DES DAMES</td>\n",
       "      <td>SAINTE SAVINE</td>\n",
       "      <td>10300</td>\n",
       "      <td>None</td>\n",
       "      <td>None</td>\n",
       "    </tr>\n",
       "    <tr>\n",
       "      <th>2</th>\n",
       "      <td>3</td>\n",
       "      <td>22 RUE AMIRAL GUEPRATTE</td>\n",
       "      <td>LE CONQUET</td>\n",
       "      <td>29217</td>\n",
       "      <td>None</td>\n",
       "      <td>None</td>\n",
       "    </tr>\n",
       "    <tr>\n",
       "      <th>3</th>\n",
       "      <td>4</td>\n",
       "      <td>6 BD DES ETINES</td>\n",
       "      <td>LE COTEAU</td>\n",
       "      <td>42120</td>\n",
       "      <td>None</td>\n",
       "      <td>None</td>\n",
       "    </tr>\n",
       "    <tr>\n",
       "      <th>4</th>\n",
       "      <td>5</td>\n",
       "      <td>35 AV DU 159EME RIA</td>\n",
       "      <td>BRIANCON</td>\n",
       "      <td>5100</td>\n",
       "      <td>None</td>\n",
       "      <td>None</td>\n",
       "    </tr>\n",
       "  </tbody>\n",
       "</table>\n",
       "</div>"
      ],
      "text/plain": [
       "   address_id                  address           city postal_code latitude  \\\n",
       "0           1     318 CHE DE ROUMAGOUA      LA CIOTAT       13600     None   \n",
       "1           2         19 RUE DES DAMES  SAINTE SAVINE       10300     None   \n",
       "2           3  22 RUE AMIRAL GUEPRATTE     LE CONQUET       29217     None   \n",
       "3           4          6 BD DES ETINES      LE COTEAU       42120     None   \n",
       "4           5      35 AV DU 159EME RIA       BRIANCON        5100     None   \n",
       "\n",
       "  longitude  \n",
       "0      None  \n",
       "1      None  \n",
       "2      None  \n",
       "3      None  \n",
       "4      None  "
      ]
     },
     "execution_count": 5,
     "metadata": {},
     "output_type": "execute_result"
    }
   ],
   "source": [
    "# Affichage des premières lignes pour vérifier la présence de toutes les colonnes\n",
    "df.head()"
   ]
  },
  {
   "cell_type": "code",
   "execution_count": 6,
   "metadata": {},
   "outputs": [],
   "source": [
    "# Création d'une colonne qui regroupe l'adresse complète\n",
    "df['complete_address'] = df.address + \" \" + df.postal_code + \" \" + df.city"
   ]
  },
  {
   "cell_type": "code",
   "execution_count": 7,
   "metadata": {},
   "outputs": [],
   "source": [
    "# Création d'un fonction pour appeler l'API sur chaque adresse présente dans la table\n",
    "def API_address(complete_address):\n",
    "    #Création du lien pour appeler le premier résultat de l'API à une adresse donnée\n",
    "    link_main = 'https://nominatim.openstreetmap.org/?q='\n",
    "    link_end = '&format=json&limit=1'\n",
    "    link = link_main + complete_address.replace(' ' , '+') + link_end\n",
    "    requete = requests.get(link).json()\n",
    "    # Si la requête retourne une liste vide, j'élargie la rechrche pour récupérer les coordonnées de la commune via son code postal\n",
    "    if requete == []:\n",
    "        result = re.findall(r'(?<!\\d)(\\d{5})(?!\\d)', complete_address) \n",
    "        if result == []:\n",
    "            result = re.findall(r'(?<!\\d)(\\d{4})(?!\\d)', complete_address)\n",
    "        link = link_main + ''.join(result) + link_end\n",
    "        points = [ float(requests.get(link).json()[0]['lat']), float(requests.get(link).json()[0]['lon'])]\n",
    "        return points\n",
    "    else:\n",
    "        point = [ float(requests.get(link).json()[0]['lat']), float(requests.get(link).json()[0]['lon'])]   \n",
    "        return point"
   ]
  },
  {
   "cell_type": "code",
   "execution_count": 8,
   "metadata": {},
   "outputs": [],
   "source": [
    "# Création d'une colonne stockant les coordonnées dans une liste pour chaque adresse \n",
    "df['coordinates'] = df['complete_address'].apply(API_address)"
   ]
  },
  {
   "cell_type": "code",
   "execution_count": 9,
   "metadata": {},
   "outputs": [],
   "source": [
    "# Génération des valeurs correspondantes pour les colonnes \"latitude\" et \"longitude\"\n",
    "df[['latitude','longitude']] = pd.DataFrame(df.coordinates.tolist(), index= df.index)\n",
    "df.drop(columns=['complete_address','coordinates'], inplace =True)"
   ]
  },
  {
   "cell_type": "code",
   "execution_count": 10,
   "metadata": {
    "scrolled": false
   },
   "outputs": [
    {
     "data": {
      "text/html": [
       "<div>\n",
       "<style scoped>\n",
       "    .dataframe tbody tr th:only-of-type {\n",
       "        vertical-align: middle;\n",
       "    }\n",
       "\n",
       "    .dataframe tbody tr th {\n",
       "        vertical-align: top;\n",
       "    }\n",
       "\n",
       "    .dataframe thead th {\n",
       "        text-align: right;\n",
       "    }\n",
       "</style>\n",
       "<table border=\"1\" class=\"dataframe\">\n",
       "  <thead>\n",
       "    <tr style=\"text-align: right;\">\n",
       "      <th></th>\n",
       "      <th>address_id</th>\n",
       "      <th>address</th>\n",
       "      <th>city</th>\n",
       "      <th>postal_code</th>\n",
       "      <th>latitude</th>\n",
       "      <th>longitude</th>\n",
       "    </tr>\n",
       "  </thead>\n",
       "  <tbody>\n",
       "    <tr>\n",
       "      <th>0</th>\n",
       "      <td>1</td>\n",
       "      <td>318 CHE DE ROUMAGOUA</td>\n",
       "      <td>LA CIOTAT</td>\n",
       "      <td>13600</td>\n",
       "      <td>43.197642</td>\n",
       "      <td>5.607890</td>\n",
       "    </tr>\n",
       "    <tr>\n",
       "      <th>1</th>\n",
       "      <td>2</td>\n",
       "      <td>19 RUE DES DAMES</td>\n",
       "      <td>SAINTE SAVINE</td>\n",
       "      <td>10300</td>\n",
       "      <td>48.290905</td>\n",
       "      <td>4.045789</td>\n",
       "    </tr>\n",
       "    <tr>\n",
       "      <th>2</th>\n",
       "      <td>3</td>\n",
       "      <td>22 RUE AMIRAL GUEPRATTE</td>\n",
       "      <td>LE CONQUET</td>\n",
       "      <td>29217</td>\n",
       "      <td>48.361340</td>\n",
       "      <td>-4.766800</td>\n",
       "    </tr>\n",
       "    <tr>\n",
       "      <th>3</th>\n",
       "      <td>4</td>\n",
       "      <td>6 BD DES ETINES</td>\n",
       "      <td>LE COTEAU</td>\n",
       "      <td>42120</td>\n",
       "      <td>46.021659</td>\n",
       "      <td>4.092120</td>\n",
       "    </tr>\n",
       "    <tr>\n",
       "      <th>4</th>\n",
       "      <td>5</td>\n",
       "      <td>35 AV DU 159EME RIA</td>\n",
       "      <td>BRIANCON</td>\n",
       "      <td>5100</td>\n",
       "      <td>49.932415</td>\n",
       "      <td>10.885641</td>\n",
       "    </tr>\n",
       "    <tr>\n",
       "      <th>...</th>\n",
       "      <td>...</td>\n",
       "      <td>...</td>\n",
       "      <td>...</td>\n",
       "      <td>...</td>\n",
       "      <td>...</td>\n",
       "      <td>...</td>\n",
       "    </tr>\n",
       "    <tr>\n",
       "      <th>557</th>\n",
       "      <td>601</td>\n",
       "      <td>20 RUE COLI</td>\n",
       "      <td>MONTREUIL</td>\n",
       "      <td>93100</td>\n",
       "      <td>48.868459</td>\n",
       "      <td>2.468415</td>\n",
       "    </tr>\n",
       "    <tr>\n",
       "      <th>558</th>\n",
       "      <td>602</td>\n",
       "      <td>6 AV JEAN JAURES</td>\n",
       "      <td>FEURS</td>\n",
       "      <td>42110</td>\n",
       "      <td>45.743563</td>\n",
       "      <td>4.226839</td>\n",
       "    </tr>\n",
       "    <tr>\n",
       "      <th>559</th>\n",
       "      <td>603</td>\n",
       "      <td>1 RUE HENRI RENAUDIN</td>\n",
       "      <td>CHARLEVILLE-MEZIERES</td>\n",
       "      <td>8000</td>\n",
       "      <td>49.773546</td>\n",
       "      <td>4.708829</td>\n",
       "    </tr>\n",
       "    <tr>\n",
       "      <th>560</th>\n",
       "      <td>604</td>\n",
       "      <td>2 RUE DE LYON</td>\n",
       "      <td>EPINAY SUR SEINE</td>\n",
       "      <td>93800</td>\n",
       "      <td>48.953836</td>\n",
       "      <td>2.292919</td>\n",
       "    </tr>\n",
       "    <tr>\n",
       "      <th>561</th>\n",
       "      <td>605</td>\n",
       "      <td>4 RUE DENIS PAPIN</td>\n",
       "      <td>BLAIN</td>\n",
       "      <td>44130</td>\n",
       "      <td>47.482766</td>\n",
       "      <td>-1.747235</td>\n",
       "    </tr>\n",
       "  </tbody>\n",
       "</table>\n",
       "<p>562 rows × 6 columns</p>\n",
       "</div>"
      ],
      "text/plain": [
       "     address_id                  address                  city postal_code  \\\n",
       "0             1     318 CHE DE ROUMAGOUA             LA CIOTAT       13600   \n",
       "1             2         19 RUE DES DAMES         SAINTE SAVINE       10300   \n",
       "2             3  22 RUE AMIRAL GUEPRATTE            LE CONQUET       29217   \n",
       "3             4          6 BD DES ETINES             LE COTEAU       42120   \n",
       "4             5      35 AV DU 159EME RIA              BRIANCON        5100   \n",
       "..          ...                      ...                   ...         ...   \n",
       "557         601              20 RUE COLI             MONTREUIL       93100   \n",
       "558         602         6 AV JEAN JAURES                 FEURS       42110   \n",
       "559         603     1 RUE HENRI RENAUDIN  CHARLEVILLE-MEZIERES        8000   \n",
       "560         604            2 RUE DE LYON      EPINAY SUR SEINE       93800   \n",
       "561         605        4 RUE DENIS PAPIN                 BLAIN       44130   \n",
       "\n",
       "      latitude  longitude  \n",
       "0    43.197642   5.607890  \n",
       "1    48.290905   4.045789  \n",
       "2    48.361340  -4.766800  \n",
       "3    46.021659   4.092120  \n",
       "4    49.932415  10.885641  \n",
       "..         ...        ...  \n",
       "557  48.868459   2.468415  \n",
       "558  45.743563   4.226839  \n",
       "559  49.773546   4.708829  \n",
       "560  48.953836   2.292919  \n",
       "561  47.482766  -1.747235  \n",
       "\n",
       "[562 rows x 6 columns]"
      ]
     },
     "execution_count": 10,
     "metadata": {},
     "output_type": "execute_result"
    }
   ],
   "source": [
    "df"
   ]
  },
  {
   "cell_type": "code",
   "execution_count": 70,
   "metadata": {},
   "outputs": [
    {
     "data": {
      "text/plain": [
       "2"
      ]
     },
     "execution_count": 70,
     "metadata": {},
     "output_type": "execute_result"
    }
   ],
   "source": [
    "df.address_id.iloc[1]"
   ]
  },
  {
   "cell_type": "code",
   "execution_count": 68,
   "metadata": {},
   "outputs": [
    {
     "ename": "ProgrammingError",
     "evalue": "1064 (42000): You have an error in your SQL syntax; check the manual that corresponds to your MySQL server version for the right syntax to use near '[i] WHERE address_id = df.address_id.iloc[i]' at line 1",
     "output_type": "error",
     "traceback": [
      "\u001b[1;31m---------------------------------------------------------------------------\u001b[0m",
      "\u001b[1;31mMySQLInterfaceError\u001b[0m                       Traceback (most recent call last)",
      "\u001b[1;32m~\\anaconda3\\lib\\site-packages\\mysql\\connector\\connection_cext.py\u001b[0m in \u001b[0;36mcmd_query\u001b[1;34m(self, query, raw, buffered, raw_as_string)\u001b[0m\n\u001b[0;32m    522\u001b[0m                 \u001b[0mquery\u001b[0m \u001b[1;33m=\u001b[0m \u001b[0mquery\u001b[0m\u001b[1;33m.\u001b[0m\u001b[0mencode\u001b[0m\u001b[1;33m(\u001b[0m\u001b[1;34m'utf-8'\u001b[0m\u001b[1;33m)\u001b[0m\u001b[1;33m\u001b[0m\u001b[1;33m\u001b[0m\u001b[0m\n\u001b[1;32m--> 523\u001b[1;33m             self._cmysql.query(query,\n\u001b[0m\u001b[0;32m    524\u001b[0m                                \u001b[0mraw\u001b[0m\u001b[1;33m=\u001b[0m\u001b[0mraw\u001b[0m\u001b[1;33m,\u001b[0m \u001b[0mbuffered\u001b[0m\u001b[1;33m=\u001b[0m\u001b[0mbuffered\u001b[0m\u001b[1;33m,\u001b[0m\u001b[1;33m\u001b[0m\u001b[1;33m\u001b[0m\u001b[0m\n",
      "\u001b[1;31mMySQLInterfaceError\u001b[0m: You have an error in your SQL syntax; check the manual that corresponds to your MySQL server version for the right syntax to use near '[i] WHERE address_id = df.address_id.iloc[i]' at line 1",
      "\nDuring handling of the above exception, another exception occurred:\n",
      "\u001b[1;31mProgrammingError\u001b[0m                          Traceback (most recent call last)",
      "\u001b[1;32m<ipython-input-68-77f59e798941>\u001b[0m in \u001b[0;36m<module>\u001b[1;34m\u001b[0m\n\u001b[0;32m      5\u001b[0m     \u001b[0msql\u001b[0m \u001b[1;33m=\u001b[0m \u001b[1;34m\"UPDATE address SET latitude = df.latitude.iloc[i] WHERE address_id = df.address_id.iloc[i]\"\u001b[0m\u001b[1;33m\u001b[0m\u001b[1;33m\u001b[0m\u001b[0m\n\u001b[0;32m      6\u001b[0m \u001b[1;33m\u001b[0m\u001b[0m\n\u001b[1;32m----> 7\u001b[1;33m     \u001b[0mcursor\u001b[0m\u001b[1;33m.\u001b[0m\u001b[0mexecute\u001b[0m\u001b[1;33m(\u001b[0m\u001b[0msql\u001b[0m\u001b[1;33m)\u001b[0m\u001b[1;33m\u001b[0m\u001b[1;33m\u001b[0m\u001b[0m\n\u001b[0m\u001b[0;32m      8\u001b[0m \u001b[1;33m\u001b[0m\u001b[0m\n\u001b[0;32m      9\u001b[0m     \u001b[0mcursor\u001b[0m\u001b[1;33m.\u001b[0m\u001b[0mexecute\u001b[0m\u001b[1;33m(\u001b[0m\u001b[1;34m\"select * from address;\"\u001b[0m\u001b[1;33m)\u001b[0m\u001b[1;33m\u001b[0m\u001b[1;33m\u001b[0m\u001b[0m\n",
      "\u001b[1;32m~\\anaconda3\\lib\\site-packages\\mysql\\connector\\cursor_cext.py\u001b[0m in \u001b[0;36mexecute\u001b[1;34m(self, operation, params, multi)\u001b[0m\n\u001b[0;32m    267\u001b[0m \u001b[1;33m\u001b[0m\u001b[0m\n\u001b[0;32m    268\u001b[0m         \u001b[1;32mtry\u001b[0m\u001b[1;33m:\u001b[0m\u001b[1;33m\u001b[0m\u001b[1;33m\u001b[0m\u001b[0m\n\u001b[1;32m--> 269\u001b[1;33m             result = self._cnx.cmd_query(stmt, raw=self._raw,\n\u001b[0m\u001b[0;32m    270\u001b[0m                                          \u001b[0mbuffered\u001b[0m\u001b[1;33m=\u001b[0m\u001b[0mself\u001b[0m\u001b[1;33m.\u001b[0m\u001b[0m_buffered\u001b[0m\u001b[1;33m,\u001b[0m\u001b[1;33m\u001b[0m\u001b[1;33m\u001b[0m\u001b[0m\n\u001b[0;32m    271\u001b[0m                                          raw_as_string=self._raw_as_string)\n",
      "\u001b[1;32m~\\anaconda3\\lib\\site-packages\\mysql\\connector\\connection_cext.py\u001b[0m in \u001b[0;36mcmd_query\u001b[1;34m(self, query, raw, buffered, raw_as_string)\u001b[0m\n\u001b[0;32m    526\u001b[0m                                query_attrs=self._query_attrs)\n\u001b[0;32m    527\u001b[0m         \u001b[1;32mexcept\u001b[0m \u001b[0mMySQLInterfaceError\u001b[0m \u001b[1;32mas\u001b[0m \u001b[0mexc\u001b[0m\u001b[1;33m:\u001b[0m\u001b[1;33m\u001b[0m\u001b[1;33m\u001b[0m\u001b[0m\n\u001b[1;32m--> 528\u001b[1;33m             raise errors.get_mysql_exception(exc.errno, msg=exc.msg,\n\u001b[0m\u001b[0;32m    529\u001b[0m                                              sqlstate=exc.sqlstate)\n\u001b[0;32m    530\u001b[0m         \u001b[1;32mexcept\u001b[0m \u001b[0mAttributeError\u001b[0m\u001b[1;33m:\u001b[0m\u001b[1;33m\u001b[0m\u001b[1;33m\u001b[0m\u001b[0m\n",
      "\u001b[1;31mProgrammingError\u001b[0m: 1064 (42000): You have an error in your SQL syntax; check the manual that corresponds to your MySQL server version for the right syntax to use near '[i] WHERE address_id = df.address_id.iloc[i]' at line 1"
     ]
    }
   ],
   "source": [
    "cursor=db_connection.cursor()\n",
    "\n",
    "# Insert DataFrame recrds one by one.\n",
    "for i in range (len(df.address_id)):\n",
    "    sql = \"UPDATE address SET latitude = df.latitude.iloc[i] WHERE address_id = df.address_id.iloc[i]\"\n",
    "\n",
    "    cursor.execute(sql)\n",
    "\n",
    "    cursor.execute(\"select * from address;\")\n",
    "\n",
    "    myresult = cursor.fetchall()\n",
    "    for row in myresult:\n",
    "        print(row)\n",
    "\n",
    "    # the connection is not autocommitted by default, so we must commit to save our changes\n",
    "    db_connection.commit()\n",
    "\n",
    "    db_connection.close()"
   ]
  },
  {
   "cell_type": "code",
   "execution_count": null,
   "metadata": {},
   "outputs": [],
   "source": []
  }
 ],
 "metadata": {
  "kernelspec": {
   "display_name": "Python 3",
   "language": "python",
   "name": "python3"
  },
  "language_info": {
   "codemirror_mode": {
    "name": "ipython",
    "version": 3
   },
   "file_extension": ".py",
   "mimetype": "text/x-python",
   "name": "python",
   "nbconvert_exporter": "python",
   "pygments_lexer": "ipython3",
   "version": "3.8.5"
  }
 },
 "nbformat": 4,
 "nbformat_minor": 4
}
